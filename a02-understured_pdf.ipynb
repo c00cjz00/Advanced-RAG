{
 "cells": [
  {
   "cell_type": "markdown",
   "id": "3d7df68c-9bb2-424b-9ed2-55886a0146ba",
   "metadata": {},
   "source": [
    "## 初始環境設定"
   ]
  },
  {
   "cell_type": "code",
   "execution_count": 1,
   "id": "47f8caf7-c65f-470f-ada3-ff849216f70f",
   "metadata": {
    "tags": []
   },
   "outputs": [
    {
     "data": {
      "text/plain": [
       "'/home/g00cjz00/demo2024/llm_course_20231228'"
      ]
     },
     "execution_count": 1,
     "metadata": {},
     "output_type": "execute_result"
    }
   ],
   "source": [
    "import os\n",
    "from pathlib import Path\n",
    "HOME = str(Path.home())\n",
    "Add_Binarry_Path=HOME+'/.local/bin'\n",
    "os.environ['PATH']=os.environ['PATH']+':'+Add_Binarry_Path\n",
    "current_foldr=!pwd\n",
    "current_foldr=current_foldr[0]\n",
    "current_foldr"
   ]
  },
  {
   "cell_type": "markdown",
   "id": "b8d7b3a0-cda1-473d-9c8d-59938add156f",
   "metadata": {},
   "source": [
    "## 確認CUDA版本, 以及否能使用GPU"
   ]
  },
  {
   "cell_type": "code",
   "execution_count": 2,
   "id": "9e83a466-da98-44e2-9223-3d5b2e9e4857",
   "metadata": {
    "tags": []
   },
   "outputs": [
    {
     "name": "stdout",
     "output_type": "stream",
     "text": [
      "Tue Mar 26 17:18:17 2024       \n",
      "+-----------------------------------------------------------------------------+\n",
      "| NVIDIA-SMI 510.47.03    Driver Version: 510.47.03    CUDA Version: 11.6     |\n",
      "|-------------------------------+----------------------+----------------------+\n",
      "| GPU  Name        Persistence-M| Bus-Id        Disp.A | Volatile Uncorr. ECC |\n",
      "| Fan  Temp  Perf  Pwr:Usage/Cap|         Memory-Usage | GPU-Util  Compute M. |\n",
      "|                               |                      |               MIG M. |\n",
      "|===============================+======================+======================|\n",
      "|   0  Tesla V100-SXM2...  Off  | 00000000:1B:00.0 Off |                    0 |\n",
      "| N/A   38C    P0    55W / 300W |   1744MiB / 32768MiB |      0%      Default |\n",
      "|                               |                      |                  N/A |\n",
      "+-------------------------------+----------------------+----------------------+\n",
      "|   1  Tesla V100-SXM2...  Off  | 00000000:3D:00.0 Off |                    0 |\n",
      "| N/A   38C    P0    40W / 300W |      3MiB / 32768MiB |      0%      Default |\n",
      "|                               |                      |                  N/A |\n",
      "+-------------------------------+----------------------+----------------------+\n",
      "|   2  Tesla V100-SXM2...  Off  | 00000000:B1:00.0 Off |                    0 |\n",
      "| N/A   36C    P0    40W / 300W |      3MiB / 32768MiB |      0%      Default |\n",
      "|                               |                      |                  N/A |\n",
      "+-------------------------------+----------------------+----------------------+\n",
      "|   3  Tesla V100-SXM2...  Off  | 00000000:B2:00.0 Off |                    0 |\n",
      "| N/A   36C    P0    41W / 300W |      3MiB / 32768MiB |      0%      Default |\n",
      "|                               |                      |                  N/A |\n",
      "+-------------------------------+----------------------+----------------------+\n",
      "                                                                               \n",
      "+-----------------------------------------------------------------------------+\n",
      "| Processes:                                                                  |\n",
      "|  GPU   GI   CI        PID   Type   Process name                  GPU Memory |\n",
      "|        ID   ID                                                   Usage      |\n",
      "|=============================================================================|\n",
      "|    0   N/A  N/A    145171      C   /opt/conda/bin/python3           1741MiB |\n",
      "+-----------------------------------------------------------------------------+\n"
     ]
    },
    {
     "name": "stderr",
     "output_type": "stream",
     "text": [
      "/usr/local/lib/python3.10/site-packages/torch/cuda/__init__.py:138: UserWarning: CUDA initialization: The NVIDIA driver on your system is too old (found version 11060). Please update your GPU driver by downloading and installing a new version from the URL: http://www.nvidia.com/Download/index.aspx Alternatively, go to: https://pytorch.org to install a PyTorch version that has been compiled with your version of the CUDA driver. (Triggered internally at ../c10/cuda/CUDAFunctions.cpp:108.)\n",
      "  return torch._C._cuda_getDeviceCount() > 0\n"
     ]
    },
    {
     "data": {
      "text/plain": [
       "False"
      ]
     },
     "execution_count": 2,
     "metadata": {},
     "output_type": "execute_result"
    }
   ],
   "source": [
    "!nvidia-smi\n",
    "import torch\n",
    "torch.cuda.is_available()"
   ]
  },
  {
   "cell_type": "markdown",
   "id": "79c202ba-d177-4fdb-985f-700c974661f2",
   "metadata": {},
   "source": [
    "## 安裝套件"
   ]
  },
  {
   "cell_type": "raw",
   "id": "b48070f4-567b-4a62-9e9b-02d5d35c2beb",
   "metadata": {
    "tags": []
   },
   "source": [
    "!apt-get install poppler-utils tesseract-ocr\n",
    "!pip install \"unstructured[all-docs]\"==0.11.8 pydantic lxml langchain openai chromadb tiktoken "
   ]
  },
  {
   "cell_type": "markdown",
   "id": "f9cd0017-4386-40c3-a4e5-85d8caebf0cf",
   "metadata": {},
   "source": [
    "## Read PDF"
   ]
  },
  {
   "cell_type": "code",
   "execution_count": 1,
   "id": "940167cf-0178-4ce4-bff3-2de3f78986d6",
   "metadata": {
    "tags": []
   },
   "outputs": [
    {
     "name": "stderr",
     "output_type": "stream",
     "text": [
      "Some weights of the model checkpoint at microsoft/table-transformer-structure-recognition were not used when initializing TableTransformerForObjectDetection: ['model.backbone.conv_encoder.model.layer2.0.downsample.1.num_batches_tracked', 'model.backbone.conv_encoder.model.layer3.0.downsample.1.num_batches_tracked', 'model.backbone.conv_encoder.model.layer4.0.downsample.1.num_batches_tracked']\n",
      "- This IS expected if you are initializing TableTransformerForObjectDetection from the checkpoint of a model trained on another task or with another architecture (e.g. initializing a BertForSequenceClassification model from a BertForPreTraining model).\n",
      "- This IS NOT expected if you are initializing TableTransformerForObjectDetection from the checkpoint of a model that you expect to be exactly identical (initializing a BertForSequenceClassification model from a BertForSequenceClassification model).\n"
     ]
    },
    {
     "name": "stdout",
     "output_type": "stream",
     "text": [
      "8\n",
      "15\n"
     ]
    }
   ],
   "source": [
    "from typing import Any\n",
    "from pydantic import BaseModel\n",
    "from unstructured.partition.pdf import partition_pdf\n",
    "\n",
    "#1\n",
    "raw_pdf_elements = partition_pdf(\n",
    "    filename=\"1Q23-EPR-with-Tables-FINAL.pdf\",\n",
    "    extract_images_in_pdf=False,\n",
    "    infer_table_structure=True,\n",
    "    chunking_strategy=\"by_title\",\n",
    "    max_characters=4000,\n",
    "    new_after_n_chars=3800,\n",
    "    combine_text_under_n_chars=2000,\n",
    "    image_output_dir_path=\".\",\n",
    ")\n",
    "\n",
    "#2\n",
    "category_counts = {}\n",
    "\n",
    "for element in raw_pdf_elements:\n",
    "    category = str(type(element))\n",
    "    if category in category_counts:\n",
    "        category_counts[category] += 1\n",
    "    else:\n",
    "        category_counts[category] = 1\n",
    "\n",
    "unique_categories = set(category_counts.keys())\n",
    "category_counts\n",
    "\n",
    "#3\n",
    "class Element(BaseModel):\n",
    "    type: str\n",
    "    text: Any\n",
    "\n",
    "table_elements = []\n",
    "text_elements = []\n",
    "for element in raw_pdf_elements:\n",
    "    if \"unstructured.documents.elements.Table\" in str(type(element)):\n",
    "        table_elements.append(Element(type=\"table\", text=str(element)))\n",
    "    elif \"unstructured.documents.elements.CompositeElement\" in str(type(element)):\n",
    "        text_elements.append(Element(type=\"text\", text=str(element)))\n",
    "\n",
    "#4\n",
    "print(len(table_elements))\n",
    "print(len(text_elements))"
   ]
  },
  {
   "cell_type": "markdown",
   "id": "895b9d4a-f359-4d64-b4e0-7d1175eeb4f2",
   "metadata": {},
   "source": [
    "## OPENAI"
   ]
  },
  {
   "cell_type": "code",
   "execution_count": 2,
   "id": "83132e75-06b2-49ec-b3aa-4ac9304439cd",
   "metadata": {
    "tags": []
   },
   "outputs": [
    {
     "name": "stderr",
     "output_type": "stream",
     "text": [
      "/opt/conda/lib/python3.10/site-packages/langchain_core/_api/deprecation.py:117: LangChainDeprecationWarning: The class `langchain_community.chat_models.openai.ChatOpenAI` was deprecated in langchain-community 0.0.10 and will be removed in 0.2.0. An updated version of the class exists in the langchain-openai package and should be used instead. To use it run `pip install -U langchain-openai` and import as `from langchain_openai import ChatOpenAI`.\n",
      "  warn_deprecated(\n"
     ]
    }
   ],
   "source": [
    "import os\n",
    "from openai import OpenAI\n",
    "from langchain.chat_models import ChatOpenAI\n",
    "from langchain.prompts import ChatPromptTemplate\n",
    "from langchain.schema.output_parser import StrOutputParser\n",
    "os.environ[\"OPENAI_API_KEY\"] = \"sk-\"\n",
    "os.environ[\"TAIDE_API_KEY\"] = \"..MtxyFM4n6Nzf4n11wvV3k5zYpj5Z-UzLb1-8LEh2Pnc\"\n",
    "\n",
    "#1\n",
    "#GPT\n",
    "#llm = ChatOpenAI(temperature=0, model=\"gpt-3.5-turbo-16k-0613\")\n",
    "\n",
    "#TAIDE\n",
    "llm = ChatOpenAI(\n",
    "    temperature=0,\n",
    "    #model_name=\"TAIDE/e.1.1.0-SG\",\n",
    "    model_name=\"TAIDE/b.11.0.0\",\n",
    "    base_url = 'https://td.nchc.org.tw/api/v1',\n",
    "    api_key=os.environ[\"TAIDE_API_KEY\"]\n",
    ")\n",
    "\n",
    "#2\n",
    "prompt_text = \"\"\"\n",
    "  You are responsible for concisely summarizing table or text chunk:\n",
    "\n",
    "  {element}\n",
    "\"\"\"\n",
    "prompt = ChatPromptTemplate.from_template(prompt_text)\n",
    "summarize_chain = {\"element\": lambda x: x} | prompt | llm | StrOutputParser()\n",
    "\n",
    "#3\n",
    "class Element(BaseModel):\n",
    "    type: str\n",
    "    text: Any\n",
    "\n",
    "table_elements = []\n",
    "text_elements = []\n",
    "for element in raw_pdf_elements:\n",
    "    if \"unstructured.documents.elements.Table\" in str(type(element)):\n",
    "        table_elements.append(Element(type=\"table\", text=str(element)))\n",
    "    elif \"unstructured.documents.elements.CompositeElement\" in str(type(element)):\n",
    "        text_elements.append(Element(type=\"text\", text=str(element)))"
   ]
  },
  {
   "cell_type": "code",
   "execution_count": 3,
   "id": "0d6a4ac7-da69-41f5-b96a-ecd2d62485e0",
   "metadata": {
    "tags": []
   },
   "outputs": [],
   "source": [
    "tables = [i.text for i in table_elements]\n",
    "table_summaries = summarize_chain.batch(tables, {\"max_concurrency\": 5})\n",
    "\n",
    "texts = [i.text for i in text_elements]\n",
    "text_summaries = summarize_chain.batch(texts, {\"max_concurrency\": 5})"
   ]
  },
  {
   "cell_type": "code",
   "execution_count": null,
   "id": "3f4f81d9-fcb7-4394-b06f-21b28e22762f",
   "metadata": {
    "tags": []
   },
   "outputs": [],
   "source": [
    "for i, table in enumerate(table_elements):\n",
    "    print('Table'+i)    \n",
    "    print(i, table)\n",
    "    print('Summary')    \n",
    "    print(table_summaries[i])    \n",
    "    print('===========================================================================================================')"
   ]
  },
  {
   "cell_type": "code",
   "execution_count": null,
   "id": "d726fdd8-301a-4c87-80f5-117f4f7792ff",
   "metadata": {
    "tags": []
   },
   "outputs": [],
   "source": [
    "for i, text in enumerate(text_elements):\n",
    "    print('Text'+i)    \n",
    "    print(i, text)\n",
    "    print('Summary')    \n",
    "    print(text_summaries[i])     \n",
    "    print('-------------------------------------------------------------------------------------------------------------------------------')"
   ]
  },
  {
   "cell_type": "code",
   "execution_count": null,
   "id": "d55d0d04-22a7-478b-bf93-5f2b22cbeeb9",
   "metadata": {},
   "outputs": [],
   "source": [
    "## JSONL"
   ]
  },
  {
   "cell_type": "code",
   "execution_count": null,
   "id": "9e58d936-ecd5-4a60-9b16-97bb687939e5",
   "metadata": {},
   "outputs": [],
   "source": [
    "import json\n",
    "\n",
    "# Data to be written \n",
    "dictionary ={ \n",
    "  \"company\": 1,\n",
    "  \"document\": \"Orlando\",\n",
    "  \"text\": \"\"\"Long text 2020\n",
    "Sharing relevant and accountable information about our development.\n",
    "This is a complicated text string with \"quotes and things\".\n",
    "\"\"\"\n",
    "} \n",
    "\n",
    "\n",
    "# Serializing json  \n",
    "json_object = json.dumps([dictionary], indent = 4) \n",
    "print(json_object)\n",
    "\n",
    "with open('company_document.json', 'w') as fp:\n",
    "    json.dump([dictionary], fp)"
   ]
  },
  {
   "cell_type": "raw",
   "id": "edf417e7-e49c-4661-b576-065e78399007",
   "metadata": {
    "tags": []
   },
   "source": [
    "\n",
    "from langchain import OpenAI, PromptTemplate, LLMChain\n",
    "from langchain.text_splitter import CharacterTextSplitter\n",
    "from langchain.chains.mapreduce import MapReduceChain\n",
    "from langchain.prompts import PromptTemplate\n",
    "from langchain.docstore.document import Document\n",
    "from langchain.chains.summarize import load_summarize_chain\n",
    "\n",
    "import os\n",
    "from langchain.chat_models import ChatOpenAI\n",
    "from langchain.prompts import ChatPromptTemplate\n",
    "from langchain.schema.output_parser import StrOutputParser\n",
    "os.environ[\"OPENAI_API_KEY\"] = \"sk-\"\n",
    "os.environ[\"TAIDE_API_KEY\"] = \"eyJhbGciOiJIUzI1NiIsInR5cCI6IkpXVCJ9..MtxyFM4n6Nzf4n11wvV3k5zYpj5Z-UzLb1-8LEh2Pnc\"\n",
    "\n",
    "#1\n",
    "#GPT\n",
    "#llm = ChatOpenAI(temperature=0, model=\"gpt-3.5-turbo-16k-0613\")\n",
    "\n",
    "#TAIDE\n",
    "llm = ChatOpenAI(\n",
    "    temperature=0,\n",
    "    #model_name=\"TAIDE/e.1.1.0-SG\",\n",
    "    #model_name=\"TAIDE/b.11.0.0\",\n",
    "    model_name=\"TAIDE/a.1.0.0\",\n",
    "    base_url = 'https://td.nchc.org.tw/api/v1',\n",
    "    api_key=os.environ[\"TAIDE_API_KEY\"]\n",
    ")\n",
    "\n",
    "\n",
    "docs = [Document(page_content=content.text, metadata={\"pages\": i+1}) for i, content in enumerate(text_elements)]\n",
    "#for i, content in enumerate(text_elements):\n",
    "#    docs += Document(page_content=content.text,metadata={\"pages\": i})\n",
    "#    if i == \"1\":\n",
    "#        break\n",
    "        \n",
    "print(docs)\n",
    "        # 注意这里是load_summarize_chain\n",
    "chain = load_summarize_chain(llm, chain_type=\"map_reduce\")\n",
    "chain.run(docs)"
   ]
  }
 ],
 "metadata": {
  "kernelspec": {
   "display_name": "Image_S-work-unstrcuture2_c00cjz00_cuda11.8_pytorch_2.1.2-cuda11.8-cudnn8-devel-unstructured",
   "language": "python",
   "name": "s-work-unstrcuture2_c00cjz00_cuda11.8_pytorch_2.1.2-cuda11.8-cudnn8-devel-unstructured"
  },
  "language_info": {
   "codemirror_mode": {
    "name": "ipython",
    "version": 3
   },
   "file_extension": ".py",
   "mimetype": "text/x-python",
   "name": "python",
   "nbconvert_exporter": "python",
   "pygments_lexer": "ipython3",
   "version": "3.10.13"
  }
 },
 "nbformat": 4,
 "nbformat_minor": 5
}
